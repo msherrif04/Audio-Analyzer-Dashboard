{
 "cells": [
  {
   "cell_type": "code",
   "execution_count": 9,
   "metadata": {},
   "outputs": [],
   "source": [
    "from dotenv import load_dotenv"
   ]
  },
  {
   "cell_type": "code",
   "execution_count": 27,
   "metadata": {},
   "outputs": [
    {
     "name": "stdout",
     "output_type": "stream",
     "text": [
      "76a9ffee166842c999c073971ba7bd84\n"
     ]
    }
   ],
   "source": [
    "load_dotenv()\n",
    "\n",
    "import os \n",
    "token = os.environ.get('api-token')\n",
    "print (token)"
   ]
  },
  {
   "cell_type": "code",
   "execution_count": 28,
   "metadata": {},
   "outputs": [
    {
     "name": "stdout",
     "output_type": "stream",
     "text": [
      "{'id': '66gbkye688-2449-4d98-9ec4-924a9762b668', 'language_model': 'assemblyai_default', 'acoustic_model': 'assemblyai_default', 'language_code': 'en_us', 'status': 'queued', 'audio_url': 'https://www.youtube.com/watch?v=YRxtI9Ot_7g', 'text': None, 'words': None, 'utterances': None, 'confidence': None, 'audio_duration': None, 'punctuate': True, 'format_text': True, 'dual_channel': None, 'webhook_url': None, 'webhook_status_code': None, 'webhook_auth': False, 'webhook_auth_header_name': None, 'speed_boost': False, 'auto_highlights_result': None, 'auto_highlights': False, 'audio_start_from': None, 'audio_end_at': None, 'word_boost': [], 'boost_param': None, 'filter_profanity': False, 'redact_pii': False, 'redact_pii_audio': False, 'redact_pii_audio_quality': None, 'redact_pii_policies': None, 'redact_pii_sub': None, 'speaker_labels': False, 'content_safety': False, 'iab_categories': False, 'content_safety_labels': {}, 'iab_categories_result': {}, 'language_detection': False, 'custom_spelling': None, 'throttled': None, 'auto_chapters': False, 'summarization': False, 'summary_type': None, 'summary_model': None, 'custom_topics': False, 'topics': [], 'disfluencies': False, 'sentiment_analysis': False, 'sentiment_analysis_results': None, 'chapters': None, 'entity_detection': False, 'entities': None, 'speakers_expected': None}\n"
     ]
    }
   ],
   "source": [
    "import requests\n",
    "endpoint = \"https://api.assemblyai.com/v2/transcript\"\n",
    "json = {\n",
    "    \"audio_url\": \"https://www.youtube.com/watch?v=YRxtI9Ot_7g\"\n",
    "}\n",
    "headers = {\n",
    "    \"authorization\":token,\n",
    "}\n",
    "response = requests.post(endpoint, json=json, headers=headers)\n",
    "print(response.json())"
   ]
  },
  {
   "cell_type": "code",
   "execution_count": 30,
   "metadata": {},
   "outputs": [
    {
     "data": {
      "text/plain": [
       "'File does not contain audio, appears to be text/html'"
      ]
     },
     "execution_count": 30,
     "metadata": {},
     "output_type": "execute_result"
    }
   ],
   "source": [
    "import requests\n",
    "result_endpoint = endpoint + \"/\" + response.json()['id']\n",
    "json = {\n",
    "    \"audio_url\": \"https://www.youtube.com/watch?v=YRxtI9Ot_7g\"\n",
    "}\n",
    "headers_auth = {\n",
    "    \"authorization\":token,\n",
    "}\n",
    "transcript_response = requests.post(result_endpoint, headers = headers_auth)\n",
    "print(transcript_response.json())"
   ]
  },
  {
   "cell_type": "code",
   "execution_count": 14,
   "metadata": {},
   "outputs": [],
   "source": [
    "from IPython.display import JSON\n",
    "import pickle \n",
    "from io import StringIO"
   ]
  },
  {
   "cell_type": "code",
   "execution_count": 26,
   "metadata": {},
   "outputs": [
    {
     "data": {
      "application/json": {
       "acoustic_model": "assemblyai_default",
       "audio_duration": 12,
       "audio_end_at": null,
       "audio_start_from": null,
       "audio_url": "https://bit.ly/3yxKEIY",
       "auto_chapters": false,
       "auto_highlights": false,
       "auto_highlights_result": null,
       "boost_param": null,
       "chapters": null,
       "confidence": 0.9287006666666667,
       "content_safety": false,
       "content_safety_labels": {
        "results": [],
        "status": "unavailable",
        "summary": {}
       },
       "custom_spelling": null,
       "custom_topics": false,
       "disfluencies": false,
       "dual_channel": null,
       "entities": null,
       "entity_detection": false,
       "filter_profanity": false,
       "format_text": true,
       "iab_categories": false,
       "iab_categories_result": {
        "results": [],
        "status": "unavailable",
        "summary": {}
       },
       "id": "66kgbxac3j-2343-4526-bd23-9c954fd4f1a7",
       "language_code": "en_us",
       "language_detection": false,
       "language_model": "assemblyai_default",
       "punctuate": true,
       "redact_pii": false,
       "redact_pii_audio": false,
       "redact_pii_audio_quality": null,
       "redact_pii_policies": null,
       "redact_pii_sub": null,
       "sentiment_analysis": false,
       "sentiment_analysis_results": null,
       "speaker_labels": false,
       "speakers_expected": null,
       "speed_boost": false,
       "status": "completed",
       "summarization": false,
       "summary": null,
       "summary_model": null,
       "summary_type": null,
       "text": "You know, demons on TV like that. And and for people to expose themselves to being rejected on TV or, you know, humil humiliated by Fear Factor or, you know.",
       "throttled": null,
       "topics": [],
       "utterances": null,
       "webhook_auth": false,
       "webhook_auth_header_name": null,
       "webhook_status_code": null,
       "webhook_url": null,
       "word_boost": [],
       "words": [
        {
         "confidence": 0.99867,
         "end": 558,
         "speaker": null,
         "start": 490,
         "text": "You"
        },
        {
         "confidence": 0.97682,
         "end": 878,
         "speaker": null,
         "start": 564,
         "text": "know,"
        },
        {
         "confidence": 0.83744,
         "end": 1466,
         "speaker": null,
         "start": 964,
         "text": "demons"
        },
        {
         "confidence": 1,
         "end": 1646,
         "speaker": null,
         "start": 1498,
         "text": "on"
        },
        {
         "confidence": 0.96723,
         "end": 1946,
         "speaker": null,
         "start": 1668,
         "text": "TV"
        },
        {
         "confidence": 0.96858,
         "end": 2174,
         "speaker": null,
         "start": 1978,
         "text": "like"
        },
        {
         "confidence": 0.99789,
         "end": 2414,
         "speaker": null,
         "start": 2212,
         "text": "that."
        },
        {
         "confidence": 0.95,
         "end": 2750,
         "speaker": null,
         "start": 2452,
         "text": "And"
        },
        {
         "confidence": 0.67,
         "end": 3150,
         "speaker": null,
         "start": 2820,
         "text": "and"
        },
        {
         "confidence": 0.9993,
         "end": 3454,
         "speaker": null,
         "start": 3220,
         "text": "for"
        },
        {
         "confidence": 0.99895,
         "end": 3694,
         "speaker": null,
         "start": 3492,
         "text": "people"
        },
        {
         "confidence": 1,
         "end": 4078,
         "speaker": null,
         "start": 3732,
         "text": "to"
        },
        {
         "confidence": 0.99588,
         "end": 4634,
         "speaker": null,
         "start": 4164,
         "text": "expose"
        },
        {
         "confidence": 0.99976,
         "end": 5038,
         "speaker": null,
         "start": 4682,
         "text": "themselves"
        },
        {
         "confidence": 1,
         "end": 5326,
         "speaker": null,
         "start": 5124,
         "text": "to"
        },
        {
         "confidence": 0.88465,
         "end": 5582,
         "speaker": null,
         "start": 5348,
         "text": "being"
        },
        {
         "confidence": 0.99927,
         "end": 6106,
         "speaker": null,
         "start": 5636,
         "text": "rejected"
        },
        {
         "confidence": 1,
         "end": 6286,
         "speaker": null,
         "start": 6138,
         "text": "on"
        },
        {
         "confidence": 0.93121,
         "end": 6634,
         "speaker": null,
         "start": 6308,
         "text": "TV"
        },
        {
         "confidence": 1,
         "end": 7086,
         "speaker": null,
         "start": 6682,
         "text": "or,"
        },
        {
         "confidence": 0.96102,
         "end": 7406,
         "speaker": null,
         "start": 7188,
         "text": "you"
        },
        {
         "confidence": 0.99694,
         "end": 7662,
         "speaker": null,
         "start": 7428,
         "text": "know,"
        },
        {
         "confidence": 0.2201,
         "end": 8202,
         "speaker": null,
         "start": 7716,
         "text": "humil"
        },
        {
         "confidence": 0.91129,
         "end": 9002,
         "speaker": null,
         "start": 8266,
         "text": "humiliated"
        },
        {
         "confidence": 0.99941,
         "end": 9294,
         "speaker": null,
         "start": 9066,
         "text": "by"
        },
        {
         "confidence": 0.62381,
         "end": 9674,
         "speaker": null,
         "start": 9332,
         "text": "Fear"
        },
        {
         "confidence": 0.99659,
         "end": 10154,
         "speaker": null,
         "start": 9722,
         "text": "Factor"
        },
        {
         "confidence": 0.98,
         "end": 10800,
         "speaker": null,
         "start": 10202,
         "text": "or,"
        },
        {
         "confidence": 0.9995,
         "end": 11566,
         "speaker": null,
         "start": 11250,
         "text": "you"
        },
        {
         "confidence": 0.99671,
         "end": 11660,
         "speaker": null,
         "start": 11588,
         "text": "know."
        }
       ]
      },
      "text/plain": [
       "<IPython.core.display.JSON object>"
      ]
     },
     "execution_count": 26,
     "metadata": {
      "application/json": {
       "expanded": false,
       "root": "root"
      }
     },
     "output_type": "execute_result"
    }
   ],
   "source": [
    "JSON(transcript_response.json())"
   ]
  },
  {
   "cell_type": "code",
   "execution_count": null,
   "metadata": {},
   "outputs": [],
   "source": []
  }
 ],
 "metadata": {
  "kernelspec": {
   "display_name": "Python 3",
   "language": "python",
   "name": "python3"
  },
  "language_info": {
   "codemirror_mode": {
    "name": "ipython",
    "version": 3
   },
   "file_extension": ".py",
   "mimetype": "text/x-python",
   "name": "python",
   "nbconvert_exporter": "python",
   "pygments_lexer": "ipython3",
   "version": "3.11.3"
  },
  "orig_nbformat": 4
 },
 "nbformat": 4,
 "nbformat_minor": 2
}
